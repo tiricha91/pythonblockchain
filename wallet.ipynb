{
 "cells": [
  {
   "cell_type": "code",
   "execution_count": 1,
   "metadata": {},
   "outputs": [],
   "source": [
    "from constants import *\n",
    "import subprocess\n",
    "import json\n",
    "import os\n",
    "from dotenv import load_dotenv\n",
    "from web3 import Web3\n",
    "from web3.middleware import geth_poa_middleware\n",
    "from web3.gas_strategies.time_based import medium_gas_price_strategy\n",
    "from bit import wif_to_key, PrivateKeyTestnet\n",
    "from bit.network import NetworkAPI\n",
    "from eth_account import Account"
   ]
  },
  {
   "cell_type": "code",
   "execution_count": 2,
   "metadata": {},
   "outputs": [
    {
     "data": {
      "text/plain": [
       "True"
      ]
     },
     "execution_count": 2,
     "metadata": {},
     "output_type": "execute_result"
    }
   ],
   "source": [
    "load_dotenv()"
   ]
  },
  {
   "cell_type": "code",
   "execution_count": 3,
   "metadata": {},
   "outputs": [],
   "source": [
    "mnemonic = os.getenv('MNEMONIC')"
   ]
  },
  {
   "cell_type": "code",
   "execution_count": 4,
   "metadata": {},
   "outputs": [],
   "source": [
    "class coin_name():\n",
    "    BTC = 'btc'\n",
    "    ETH = 'eth'\n",
    "    BTCTEST = 'btc-test'"
   ]
  },
  {
   "cell_type": "code",
   "execution_count": 5,
   "metadata": {},
   "outputs": [],
   "source": [
    "coin = [BTCTEST,ETH]"
   ]
  },
  {
   "cell_type": "code",
   "execution_count": 6,
   "metadata": {},
   "outputs": [],
   "source": [
    "def derive_wallets (mnemonic, coin): \n",
    "    command = f'php ./hd-wallet-derive/hd-wallet-derive.php --mnemonic=\"{mnemonic}\" -g --numderive=3 --coin=\"{coin}\" --cols=address,index,path,privkey,pubkey,pubkeyhash,xprv,xpub --format=json'\n",
    "    p = subprocess.Popen(command, stdout=subprocess.PIPE, shell=True)\n",
    "    (output, err) = p.communicate()\n",
    "    p_status = p.wait()\n",
    "    keys = json.loads(output)\n",
    "    return keys"
   ]
  },
  {
   "cell_type": "code",
   "execution_count": 7,
   "metadata": {},
   "outputs": [],
   "source": [
    "coins = {i: derive_wallets(mnemonic,i) for i in coin}"
   ]
  },
  {
   "cell_type": "code",
   "execution_count": 8,
   "metadata": {},
   "outputs": [
    {
     "data": {
      "text/plain": [
       "{'btc-test': [{'address': 'mjtkoMZEYXfX7P7ExVrogbmCq52JfUkt2V',\n",
       "   'index': 0,\n",
       "   'path': \"m/44'/1'/0'/0/0\",\n",
       "   'privkey': 'cRBSqF8TECwAbC8451fjmtMkoVESoiTfRzNJPWGyQ11PoiByiKkm',\n",
       "   'pubkey': '030185e5ef23827f774392c3746007dfbf585a1306184a67faf35c911b4d1c2214',\n",
       "   'pubkeyhash': '30000f14eba30a78cfbf779fad252f7c00d2f30b',\n",
       "   'xprv': 'tprv8kYXs7T2RH7WJV62oyXGy7tLcXYAxaqhqyiM21cmRiaPSn1ngqp6BZC9E57eXvh2izLwY2onBwV7PGf8FH9ZdmagVY6obqYsfpkVLBFtfv8',\n",
       "   'xpub': 'tpubDHEa1XVGZeoBBx7phdBsNXYTBZ477v2cRHK8JXf4qzNnHGGZKEdgN3p1QDCfYPsMjUunkuxtWrFqeVSXCaK61UvhqAPxBhN4zHmHkP46H8P'},\n",
       "  {'address': 'mhzQ7M4s4a5b6Cu3pYQ9B4g1HW251KqcUD',\n",
       "   'index': 1,\n",
       "   'path': \"m/44'/1'/0'/0/1\",\n",
       "   'privkey': 'cSvwBNXifqn5KS2RTWkM4Zv46o3YRd47Q43AcoPYPjtd3YpH8p3Q',\n",
       "   'pubkey': '02f454dc5104354674be44ccdb80b348a867c58144037a3d6e1994c2d65eb56c16',\n",
       "   'pubkeyhash': '1b21083a5a3f4249615beac6cdacb42356f69079',\n",
       "   'xprv': 'tprv8kYXs7T2RH7WKmg9qwYiF46WVWsRMN8TXgH3ShyuTkPg58Ji6RvNhWi9PzsAhLCJ6j3DzJLQxvfyUeHCMb2S1TdRXba72AHJ4e8Ub79RRY1',\n",
       "   'xpub': 'tpubDHEa1XVGZeoBDEhwjbDJeTkd4YPMWhKN6yspjE2Ct2C4ucZUipjxt1L1a8TP7p24brdqXvbQXG8eub4DMzssiSrHmURagCQCCNxcyNqXEDM'},\n",
       "  {'address': 'mhm3j7uFPgvibPQHePHJmR6vfUdyBLJi3B',\n",
       "   'index': 2,\n",
       "   'path': \"m/44'/1'/0'/0/2\",\n",
       "   'privkey': 'cUqG6iYh4r94dKmaZV7rqSsojAyw26zkbFXHZtbW22DnRkjWVccJ',\n",
       "   'pubkey': '0333e97aeaf02dab756c582cc775bb97a482641788269a90156302d6a9a6343038',\n",
       "   'pubkeyhash': '189a9c0d56ef68bab0d55a94d9b07c31e026731b',\n",
       "   'xprv': 'tprv8kYXs7T2RH7WMersph9zeMgiWznPyB8nrKfKCy2UG2hA73kjRWkYtPupmfZhuiKW1gcPzZGXWJAyDMCh9t3ViQdiKkjnWfTt1GD5DaWtAkm',\n",
       "   'xpub': 'tpubDHEa1XVGZeoBF7tfiLpb3mLq62JL8WKhRdG6VV4mgJVYwY1W3ua94tXgwoCvf1YTh7q5FXP2tRcE8HLLhGhpNaEKhm9XpWFfoG6bftgoFyb'}],\n",
       " 'eth': [{'address': '0x9D576491431b2B7216Cd275e43F7DEbA97Dc8f3F',\n",
       "   'index': 0,\n",
       "   'path': \"m/44'/60'/0'/0/0\",\n",
       "   'privkey': '0x23fdddcf438d2d806ac47ded4ce17b47e2e087447b6583361596ffead44fabd3',\n",
       "   'pubkey': '02dc3f1748bdb1e9d9425c989f80a193519dca6f94ffe6e9b3f5ff0bc412dba11d',\n",
       "   'pubkeyhash': '30dc08b73526d331d12e0247346df0b41de68f17',\n",
       "   'xprv': 'xprvA2styMRcoMuFk8kRwRJThnDB4CJP95xbDbuBKQyHK6sxE4iZRE79VDeV5JbM9LUY7qA5GjepJrVZSbCkgbHdB4SBDPd8SJ4foBcU9oCXNVW',\n",
       "   'xpub': 'xpub6FsFNrxWdjTYxcpu3SqU4v9ucE8sYYgSappn7oNtsSQw6s3hxmRQ31xxvb2G8MvTcEj18DXK9HqYGcfSnBkUa68aiWgo82mKrJ6SU43QhwQ'},\n",
       "  {'address': '0x23fcD28B554B390F13b7A0CEaE222e7d0f80Ebb9',\n",
       "   'index': 1,\n",
       "   'path': \"m/44'/60'/0'/0/1\",\n",
       "   'privkey': '0x0bef1aadc7d8553c5520548f96995616dfe902892062532d684c041eb6d89c64',\n",
       "   'pubkey': '03467734792d2ef36e85dd782326d9a88fa7210c839014eeb5bb1c82b1324c99fc',\n",
       "   'pubkeyhash': '8391cdaa10ca8b8bfc9769412ad50bf4ca909739',\n",
       "   'xprv': 'xprvA2styMRcoMuFoSULxbfy7omQuCyKhPRdSSvt23zLhnmNB171VQ8wuu4qgXSVWUTyUCvngaaZovxxAR7JhS2HyBp222RkzG7hny4TAFphxon',\n",
       "   'xpub': 'xpub6FsFNrxWdjTZ1vYp4dCyUwi9TEop6r9UofrUpSPxG8JM3oSA2wTCThPKXprnErfQq3f5VqPoEszmFhfyAYYrAXdcBpi2Yyh8gGdgWTSaTtB'},\n",
       "  {'address': '0x152f3E0659e4b9F2b52Eb046D5c7d752ABF84Ad6',\n",
       "   'index': 2,\n",
       "   'path': \"m/44'/60'/0'/0/2\",\n",
       "   'privkey': '0xd6f8a2df2e112fbca6d348f4018a5a87f503099f773e82c07444b340ae9f221f',\n",
       "   'pubkey': '03282cc2ef9f5f42823ca3d47f61be67fe5e681320a1956f6dabbf8a5a09d40cfd',\n",
       "   'pubkeyhash': '95e1ef1bf4a00f62ce685ef716051888b7882183',\n",
       "   'xprv': 'xprvA2styMRcoMuFsda6rRPm8MhbGPm7nqoUo2RY2FFzUjqNQT7ArF6kcRwMvtcoTjAHSpDzGruDKZrLqhSup8Pbqo8h8tFHy5fbkdcqgveHXSD',\n",
       "   'xpub': 'xpub6FsFNrxWdjTZ67eZxSvmVVeKpRbcCJXLAFM8pdfc35NMHFSKPnR1AEFqnAGL98cjNnWo8n9wxFR6ArEvo3zUkgRpgYBbvffSJjd754SKQRS'}]}"
      ]
     },
     "execution_count": 8,
     "metadata": {},
     "output_type": "execute_result"
    }
   ],
   "source": [
    "coins"
   ]
  },
  {
   "cell_type": "code",
   "execution_count": 9,
   "metadata": {},
   "outputs": [],
   "source": [
    "def priv_key_to_account (coin, priv_key):\n",
    "    if coin == ETH:\n",
    "        return Account.privateKeyToAccount(priv_key)\n",
    "    elif coin == BTCTEST:\n",
    "        return PrivateKeyTestnet(priv_key)"
   ]
  },
  {
   "cell_type": "code",
   "execution_count": 10,
   "metadata": {},
   "outputs": [],
   "source": [
    "eth_account = priv_key_to_account(ETH, derive_wallets(mnemonic, ETH)[0]['privkey'])\n",
    "btctest_account = priv_key_to_account(BTCTEST, derive_wallets(mnemonic,BTCTEST)[0]['privkey'])"
   ]
  },
  {
   "cell_type": "code",
   "execution_count": 11,
   "metadata": {},
   "outputs": [],
   "source": [
    "w3 = Web3(Web3.HTTPProvider(\"http://127.0.0.1:8545\"))\n",
    "w3.middleware_onion.inject(geth_poa_middleware, layer=0)\n",
    "w3.eth.setGasPriceStrategy(medium_gas_price_strategy)"
   ]
  },
  {
   "cell_type": "code",
   "execution_count": 20,
   "metadata": {},
   "outputs": [],
   "source": [
    "def create_tx(coin, account, to, amount):\n",
    "    if coin == ETH:\n",
    "        gasEstimate = w3.eth.estimateGas(\n",
    "        {\"from\": eth_account.address, \"to\": to, \"value\": amount}\n",
    "    )\n",
    "        return {\n",
    "            \"from\": eth_account.address,\n",
    "            \"to\": to,\n",
    "            \"value\": amount,\n",
    "            \"gasPrice\": w3.eth.gasPrice,\n",
    "            \"gas\": gasEstimate,\n",
    "            \"nonce\": w3.eth.getTransactionCount(account.address),\n",
    "            \n",
    "    }\n",
    "    elif coin == BTCTEST:\n",
    "        return PrivateKeyTestnet.prepare_transaction(account.address, [(to, amount, BTC)])"
   ]
  },
  {
   "cell_type": "code",
   "execution_count": 21,
   "metadata": {},
   "outputs": [],
   "source": [
    "def send_tx(coin,account, recipient, amount):\n",
    "    tx = create_tx(coin,account,recipient,amount)\n",
    "    \n",
    "    if coin == ETH:\n",
    "        signed_tx = eth_account.sign_transaction(tx)\n",
    "        result = w3.eth.sendRawTransaction(signed_tx.rawTransaction)\n",
    "        return result.hex()\n",
    "    elif coin == BTCTEST:\n",
    "        signed_tx = btctest_account.sign_transaction(tx)\n",
    "        return NetworkAPI.broadcast_tx_testnet(signed_tx)"
   ]
  },
  {
   "cell_type": "code",
   "execution_count": 22,
   "metadata": {},
   "outputs": [],
   "source": [
    "#send_tx(BTCTEST, btctest_account, \"mhzQ7M4s4a5b6Cu3pYQ9B4g1HW251KqcUD\",.001)"
   ]
  },
  {
   "cell_type": "code",
   "execution_count": 23,
   "metadata": {},
   "outputs": [
    {
     "data": {
      "text/plain": [
       "'0x89601d30ed44a6222b956cb5a05b8ec3bc20a34e44d507794b3ca5830bc3fd69'"
      ]
     },
     "execution_count": 23,
     "metadata": {},
     "output_type": "execute_result"
    }
   ],
   "source": [
    "send_tx(ETH, eth_account, \"0x23fcD28B554B390F13b7A0CEaE222e7d0f80Ebb9\", 25)"
   ]
  },
  {
   "cell_type": "code",
   "execution_count": null,
   "metadata": {},
   "outputs": [],
   "source": []
  }
 ],
 "metadata": {
  "kernelspec": {
   "display_name": "Python 3",
   "language": "python",
   "name": "python3"
  },
  "language_info": {
   "codemirror_mode": {
    "name": "ipython",
    "version": 3
   },
   "file_extension": ".py",
   "mimetype": "text/x-python",
   "name": "python",
   "nbconvert_exporter": "python",
   "pygments_lexer": "ipython3",
   "version": "3.7.7"
  }
 },
 "nbformat": 4,
 "nbformat_minor": 4
}
